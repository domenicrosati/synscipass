{
 "cells": [
  {
   "cell_type": "code",
   "execution_count": 16,
   "id": "47f985de",
   "metadata": {},
   "outputs": [],
   "source": [
    "import pandas as pd\n",
    "from sklearn.metrics import confusion_matrix, ConfusionMatrixDisplay, f1_score"
   ]
  },
  {
   "cell_type": "code",
   "execution_count": 17,
   "id": "2b04d34c",
   "metadata": {},
   "outputs": [],
   "source": [
    "multiclass_df = pd.read_csv('./multi_class_evaluation_results.csv')"
   ]
  },
  {
   "cell_type": "code",
   "execution_count": 18,
   "id": "1ddbbe2d",
   "metadata": {},
   "outputs": [
    {
     "data": {
      "text/html": [
       "<div>\n",
       "<style scoped>\n",
       "    .dataframe tbody tr th:only-of-type {\n",
       "        vertical-align: middle;\n",
       "    }\n",
       "\n",
       "    .dataframe tbody tr th {\n",
       "        vertical-align: top;\n",
       "    }\n",
       "\n",
       "    .dataframe thead th {\n",
       "        text-align: right;\n",
       "    }\n",
       "</style>\n",
       "<table border=\"1\" class=\"dataframe\">\n",
       "  <thead>\n",
       "    <tr style=\"text-align: right;\">\n",
       "      <th></th>\n",
       "      <th>Unnamed: 0</th>\n",
       "      <th>model</th>\n",
       "      <th>name</th>\n",
       "      <th>aurc</th>\n",
       "      <th>f1_micro</th>\n",
       "      <th>f1_none</th>\n",
       "      <th>precision</th>\n",
       "      <th>recall</th>\n",
       "      <th>recall_none</th>\n",
       "      <th>acc</th>\n",
       "      <th>dataset</th>\n",
       "      <th>risk_list</th>\n",
       "      <th>coverage_list</th>\n",
       "      <th>label_distribution</th>\n",
       "    </tr>\n",
       "  </thead>\n",
       "  <tbody>\n",
       "    <tr>\n",
       "      <th>0</th>\n",
       "      <td>0</td>\n",
       "      <td>anon/deberta-v3-large-finetuned-synth...</td>\n",
       "      <td>multiclass</td>\n",
       "      <td>0.000095</td>\n",
       "      <td>0.996074</td>\n",
       "      <td>[0.97402597 0.96911197 0.99864682 0.962818  ]</td>\n",
       "      <td>[0.98253275 0.98818898 0.99769678 0.96470588]</td>\n",
       "      <td>0.996074</td>\n",
       "      <td>[0.96566524 0.95075758 0.99959868 0.9609375 ]</td>\n",
       "      <td>0.996074</td>\n",
       "      <td>all</td>\n",
       "      <td>[0.0, 0.0, 0.0, 0.0, 0.0, 0.0, 0.0, 0.0, 0.0, ...</td>\n",
       "      <td>[9.129918743723181e-05, 0.00018259837487446363...</td>\n",
       "      <td>[('LABEL_2', 1), ('LABEL_2', 1), ('LABEL_0', 1...</td>\n",
       "    </tr>\n",
       "    <tr>\n",
       "      <th>1</th>\n",
       "      <td>1</td>\n",
       "      <td>anon/deberta-v3-large-finetuned-synth...</td>\n",
       "      <td>multiclass</td>\n",
       "      <td>0.097692</td>\n",
       "      <td>0.998083</td>\n",
       "      <td>[0.98146129 0.         0.99929789 0.        ]</td>\n",
       "      <td>[0.99778271 0.         0.99899729 0.        ]</td>\n",
       "      <td>0.998083</td>\n",
       "      <td>[0.96566524 0.         0.99959868 0.        ]</td>\n",
       "      <td>0.998083</td>\n",
       "      <td>generate</td>\n",
       "      <td>[0.0, 0.0, 0.0, 0.0, 0.0, 0.0, 0.0, 0.0, 0.0, ...</td>\n",
       "      <td>[9.584970765839164e-05, 0.00019169941531678328...</td>\n",
       "      <td>[('LABEL_2', 1), ('LABEL_2', 1), ('LABEL_0', 1...</td>\n",
       "    </tr>\n",
       "    <tr>\n",
       "      <th>2</th>\n",
       "      <td>2</td>\n",
       "      <td>anon/deberta-v3-large-finetuned-synth...</td>\n",
       "      <td>multiclass</td>\n",
       "      <td>0.088091</td>\n",
       "      <td>0.998338</td>\n",
       "      <td>[0.         0.97286822 0.99934801 0.        ]</td>\n",
       "      <td>[0.         0.99603175 0.99909747 0.        ]</td>\n",
       "      <td>0.998338</td>\n",
       "      <td>[0.         0.95075758 0.99959868 0.        ]</td>\n",
       "      <td>0.998338</td>\n",
       "      <td>paraphrase</td>\n",
       "      <td>[0.0, 0.5, 0.3333333333333333, 0.25, 0.2, 0.16...</td>\n",
       "      <td>[9.77421561919656e-05, 0.0001954843123839312, ...</td>\n",
       "      <td>[('LABEL_2', 1), ('LABEL_2', 1), ('LABEL_2', 0...</td>\n",
       "    </tr>\n",
       "    <tr>\n",
       "      <th>3</th>\n",
       "      <td>3</td>\n",
       "      <td>anon/deberta-v3-large-finetuned-synth...</td>\n",
       "      <td>multiclass</td>\n",
       "      <td>0.092868</td>\n",
       "      <td>0.998631</td>\n",
       "      <td>[0.         0.         0.99959868 0.97619048]</td>\n",
       "      <td>[0.         0.         0.99959868 0.99193548]</td>\n",
       "      <td>0.998631</td>\n",
       "      <td>[0.         0.         0.99959868 0.9609375 ]</td>\n",
       "      <td>0.998631</td>\n",
       "      <td>translate</td>\n",
       "      <td>[0.0, 0.0, 0.0, 0.0, 0.0, 0.0, 0.0, 0.0, 0.0, ...</td>\n",
       "      <td>[9.781864423359092e-05, 0.00019563728846718183...</td>\n",
       "      <td>[('LABEL_2', 1), ('LABEL_2', 1), ('LABEL_2', 0...</td>\n",
       "    </tr>\n",
       "  </tbody>\n",
       "</table>\n",
       "</div>"
      ],
      "text/plain": [
       "   Unnamed: 0                                              model        name  \\\n",
       "0           0  anon/deberta-v3-large-finetuned-synth...  multiclass   \n",
       "1           1  anon/deberta-v3-large-finetuned-synth...  multiclass   \n",
       "2           2  anon/deberta-v3-large-finetuned-synth...  multiclass   \n",
       "3           3  anon/deberta-v3-large-finetuned-synth...  multiclass   \n",
       "\n",
       "       aurc  f1_micro                                        f1_none  \\\n",
       "0  0.000095  0.996074  [0.97402597 0.96911197 0.99864682 0.962818  ]   \n",
       "1  0.097692  0.998083  [0.98146129 0.         0.99929789 0.        ]   \n",
       "2  0.088091  0.998338  [0.         0.97286822 0.99934801 0.        ]   \n",
       "3  0.092868  0.998631  [0.         0.         0.99959868 0.97619048]   \n",
       "\n",
       "                                       precision    recall  \\\n",
       "0  [0.98253275 0.98818898 0.99769678 0.96470588]  0.996074   \n",
       "1  [0.99778271 0.         0.99899729 0.        ]  0.998083   \n",
       "2  [0.         0.99603175 0.99909747 0.        ]  0.998338   \n",
       "3  [0.         0.         0.99959868 0.99193548]  0.998631   \n",
       "\n",
       "                                     recall_none       acc     dataset  \\\n",
       "0  [0.96566524 0.95075758 0.99959868 0.9609375 ]  0.996074         all   \n",
       "1  [0.96566524 0.         0.99959868 0.        ]  0.998083    generate   \n",
       "2  [0.         0.95075758 0.99959868 0.        ]  0.998338  paraphrase   \n",
       "3  [0.         0.         0.99959868 0.9609375 ]  0.998631   translate   \n",
       "\n",
       "                                           risk_list  \\\n",
       "0  [0.0, 0.0, 0.0, 0.0, 0.0, 0.0, 0.0, 0.0, 0.0, ...   \n",
       "1  [0.0, 0.0, 0.0, 0.0, 0.0, 0.0, 0.0, 0.0, 0.0, ...   \n",
       "2  [0.0, 0.5, 0.3333333333333333, 0.25, 0.2, 0.16...   \n",
       "3  [0.0, 0.0, 0.0, 0.0, 0.0, 0.0, 0.0, 0.0, 0.0, ...   \n",
       "\n",
       "                                       coverage_list  \\\n",
       "0  [9.129918743723181e-05, 0.00018259837487446363...   \n",
       "1  [9.584970765839164e-05, 0.00019169941531678328...   \n",
       "2  [9.77421561919656e-05, 0.0001954843123839312, ...   \n",
       "3  [9.781864423359092e-05, 0.00019563728846718183...   \n",
       "\n",
       "                                  label_distribution  \n",
       "0  [('LABEL_2', 1), ('LABEL_2', 1), ('LABEL_0', 1...  \n",
       "1  [('LABEL_2', 1), ('LABEL_2', 1), ('LABEL_0', 1...  \n",
       "2  [('LABEL_2', 1), ('LABEL_2', 1), ('LABEL_2', 0...  \n",
       "3  [('LABEL_2', 1), ('LABEL_2', 1), ('LABEL_2', 0...  "
      ]
     },
     "execution_count": 18,
     "metadata": {},
     "output_type": "execute_result"
    }
   ],
   "source": [
    "multiclass_df.head()"
   ]
  },
  {
   "cell_type": "code",
   "execution_count": 19,
   "id": "fecf6c7f",
   "metadata": {},
   "outputs": [],
   "source": [
    "tool_labels = {\n",
    "    \"generate\": 0,\n",
    "    \"paraphrase\": 1,\n",
    "    \"real\": 2,\n",
    "    \"translate\": 3 \n",
    "}\n",
    "test_df = pd.read_csv(\"../data/real_and_fake_passages_dataset_test.csv\")\n",
    "test_df['pred'] = test_df[\"tool\"].apply(lambda x: tool_labels[x]) # translated and real labels"
   ]
  },
  {
   "cell_type": "code",
   "execution_count": 20,
   "id": "3c9fa627",
   "metadata": {},
   "outputs": [],
   "source": [
    "results = []"
   ]
  },
  {
   "cell_type": "code",
   "execution_count": 21,
   "id": "a6c46989",
   "metadata": {},
   "outputs": [],
   "source": [
    "label_map = {\n",
    "    'LABEL_0': 0,\n",
    "    'LABEL_1': 1,\n",
    "    'LABEL_2': 2,\n",
    "    'LABEL_3': 3\n",
    "}\n",
    "y_pred = [label_map[item[0]] for item in eval(multiclass_df[multiclass_df['dataset'] == 'all']['label_distribution'][0]) ]\n",
    "y_true = list(test_df['pred'])\n",
    "cm = confusion_matrix(y_true, y_pred)"
   ]
  },
  {
   "cell_type": "code",
   "execution_count": 22,
   "id": "6d92e40b",
   "metadata": {},
   "outputs": [
    {
     "data": {
      "text/plain": [
       "<sklearn.metrics._plot.confusion_matrix.ConfusionMatrixDisplay at 0x10ef62dd0>"
      ]
     },
     "execution_count": 22,
     "metadata": {},
     "output_type": "execute_result"
    },
    {
     "data": {
      "image/png": "[encoded data removed]",
      "text/plain": [
       "<Figure size 432x288 with 2 Axes>"
      ]
     },
     "metadata": {
      "needs_background": "light"
     },
     "output_type": "display_data"
    }
   ],
   "source": [
    "disp = ConfusionMatrixDisplay(confusion_matrix=cm, display_labels=[\"generated\",\n",
    "    \"paraphrase\",\n",
    "    \"human\",\n",
    "    \"translated\" ]\n",
    ")\n",
    "disp.plot()"
   ]
  },
  {
   "cell_type": "code",
   "execution_count": 8,
   "id": "5e39a010",
   "metadata": {},
   "outputs": [
    {
     "name": "stdout",
     "output_type": "stream",
     "text": [
      "Multiclass Score\n"
     ]
    }
   ],
   "source": [
    "print(\"Multiclass Score\")\n",
    "test_df['y_pred_multiclass'] = y_pred\n",
    "generate_df = test_df[test_df['tool'] == 'generate']\n",
    "for model in test_df[test_df['tool'] == 'generate'].model.unique():\n",
    "    df = generate_df[generate_df['model'] == model]\n",
    "    score = f1_score(df['y_pred_multiclass'], df['pred'], average='micro')\n",
    "    results.append({\n",
    "        \"model\": model,\n",
    "        \"score\": score,\n",
    "        \"multiclass_model\": \"multiclass\"\n",
    "    })"
   ]
  },
  {
   "cell_type": "code",
   "execution_count": 9,
   "id": "346b34eb",
   "metadata": {},
   "outputs": [],
   "source": [
    "ablation_df = pd.read_csv('./multi_class_ablation_evaluation_results.csv')"
   ]
  },
  {
   "cell_type": "code",
   "execution_count": 10,
   "id": "c9fd79ee",
   "metadata": {},
   "outputs": [
    {
     "data": {
      "text/html": [
       "<div>\n",
       "<style scoped>\n",
       "    .dataframe tbody tr th:only-of-type {\n",
       "        vertical-align: middle;\n",
       "    }\n",
       "\n",
       "    .dataframe tbody tr th {\n",
       "        vertical-align: top;\n",
       "    }\n",
       "\n",
       "    .dataframe thead th {\n",
       "        text-align: right;\n",
       "    }\n",
       "</style>\n",
       "<table border=\"1\" class=\"dataframe\">\n",
       "  <thead>\n",
       "    <tr style=\"text-align: right;\">\n",
       "      <th></th>\n",
       "      <th>Unnamed: 0</th>\n",
       "      <th>model</th>\n",
       "      <th>name</th>\n",
       "      <th>aurc</th>\n",
       "      <th>f1_micro</th>\n",
       "      <th>f1_none</th>\n",
       "      <th>precision</th>\n",
       "      <th>recall</th>\n",
       "      <th>recall_none</th>\n",
       "      <th>acc</th>\n",
       "      <th>risk_list</th>\n",
       "      <th>coverage_list</th>\n",
       "      <th>label_distribution</th>\n",
       "    </tr>\n",
       "  </thead>\n",
       "  <tbody>\n",
       "    <tr>\n",
       "      <th>0</th>\n",
       "      <td>0</td>\n",
       "      <td>anon/deberta-v3-large-finetuned-synda...</td>\n",
       "      <td>multiclass-leave-out-bloom</td>\n",
       "      <td>0.000604</td>\n",
       "      <td>0.988588</td>\n",
       "      <td>[0.8813161  0.9631068  0.997147   0.86987522]</td>\n",
       "      <td>[0.97402597 0.98804781 0.99490611 0.8       ]</td>\n",
       "      <td>0.988588</td>\n",
       "      <td>[0.80472103 0.93939394 0.99939801 0.953125  ]</td>\n",
       "      <td>0.988588</td>\n",
       "      <td>[0.0, 0.0, 0.0, 0.0, 0.0, 0.0, 0.0, 0.0, 0.0, ...</td>\n",
       "      <td>[9.129918743723181e-05, 0.00018259837487446363...</td>\n",
       "      <td>[('LABEL_2', 1), ('LABEL_2', 1), ('LABEL_0', 1...</td>\n",
       "    </tr>\n",
       "    <tr>\n",
       "      <th>1</th>\n",
       "      <td>1</td>\n",
       "      <td>anon/deberta-v3-large-finetuned-synda...</td>\n",
       "      <td>multiclass-leave-out-gpt2</td>\n",
       "      <td>0.000152</td>\n",
       "      <td>0.993974</td>\n",
       "      <td>[0.95931478 0.94695481 0.99804541 0.94509804]</td>\n",
       "      <td>[0.95726496 0.98367347 0.99709593 0.9488189 ]</td>\n",
       "      <td>0.993974</td>\n",
       "      <td>[0.96137339 0.91287879 0.99899669 0.94140625]</td>\n",
       "      <td>0.993974</td>\n",
       "      <td>[0.0, 0.0, 0.0, 0.0, 0.0, 0.0, 0.0, 0.0, 0.0, ...</td>\n",
       "      <td>[9.129918743723181e-05, 0.00018259837487446363...</td>\n",
       "      <td>[('LABEL_2', 1), ('LABEL_2', 1), ('LABEL_0', 1...</td>\n",
       "    </tr>\n",
       "  </tbody>\n",
       "</table>\n",
       "</div>"
      ],
      "text/plain": [
       "   Unnamed: 0                                              model  \\\n",
       "0           0  anon/deberta-v3-large-finetuned-synda...   \n",
       "1           1  anon/deberta-v3-large-finetuned-synda...   \n",
       "\n",
       "                         name      aurc  f1_micro  \\\n",
       "0  multiclass-leave-out-bloom  0.000604  0.988588   \n",
       "1   multiclass-leave-out-gpt2  0.000152  0.993974   \n",
       "\n",
       "                                         f1_none  \\\n",
       "0  [0.8813161  0.9631068  0.997147   0.86987522]   \n",
       "1  [0.95931478 0.94695481 0.99804541 0.94509804]   \n",
       "\n",
       "                                       precision    recall  \\\n",
       "0  [0.97402597 0.98804781 0.99490611 0.8       ]  0.988588   \n",
       "1  [0.95726496 0.98367347 0.99709593 0.9488189 ]  0.993974   \n",
       "\n",
       "                                     recall_none       acc  \\\n",
       "0  [0.80472103 0.93939394 0.99939801 0.953125  ]  0.988588   \n",
       "1  [0.96137339 0.91287879 0.99899669 0.94140625]  0.993974   \n",
       "\n",
       "                                           risk_list  \\\n",
       "0  [0.0, 0.0, 0.0, 0.0, 0.0, 0.0, 0.0, 0.0, 0.0, ...   \n",
       "1  [0.0, 0.0, 0.0, 0.0, 0.0, 0.0, 0.0, 0.0, 0.0, ...   \n",
       "\n",
       "                                       coverage_list  \\\n",
       "0  [9.129918743723181e-05, 0.00018259837487446363...   \n",
       "1  [9.129918743723181e-05, 0.00018259837487446363...   \n",
       "\n",
       "                                  label_distribution  \n",
       "0  [('LABEL_2', 1), ('LABEL_2', 1), ('LABEL_0', 1...  \n",
       "1  [('LABEL_2', 1), ('LABEL_2', 1), ('LABEL_0', 1...  "
      ]
     },
     "execution_count": 10,
     "metadata": {},
     "output_type": "execute_result"
    }
   ],
   "source": [
    "ablation_df.head()"
   ]
  },
  {
   "cell_type": "code",
   "execution_count": 11,
   "id": "398411bf",
   "metadata": {},
   "outputs": [],
   "source": [
    "label_map = {\n",
    "    'LABEL_0': 0,\n",
    "    'LABEL_1': 1,\n",
    "    'LABEL_2': 2,\n",
    "    'LABEL_3': 3\n",
    "}\n",
    "y_pred = [label_map[item[0]] for item in eval(ablation_df[ablation_df['name'] == 'multiclass-leave-out-bloom']['label_distribution'][0]) ]\n",
    "y_true = list(test_df['pred'])"
   ]
  },
  {
   "cell_type": "code",
   "execution_count": 12,
   "id": "5acd66e1",
   "metadata": {},
   "outputs": [
    {
     "name": "stdout",
     "output_type": "stream",
     "text": [
      "Multiclass (leave out bloom) Score\n"
     ]
    }
   ],
   "source": [
    "print(\"Multiclass (leave out bloom) Score\")\n",
    "test_df['y_pred_multiclass'] = y_pred\n",
    "generate_df = test_df[test_df['tool'] == 'generate']\n",
    "for model in test_df[test_df['tool'] == 'generate'].model.unique():\n",
    "    df = generate_df[generate_df['model'] == model]\n",
    "    score = f1_score(df['y_pred_multiclass'], df['pred'], average='micro')\n",
    "    results.append({\n",
    "        \"model\": model,\n",
    "        \"score\": score,\n",
    "        \"multiclass_model\": \"multiclass_leave_out_bloom\",\n",
    "    })"
   ]
  },
  {
   "cell_type": "code",
   "execution_count": 13,
   "id": "1d200396",
   "metadata": {},
   "outputs": [],
   "source": [
    "label_map = {\n",
    "    'LABEL_0': 0,\n",
    "    'LABEL_1': 1,\n",
    "    'LABEL_2': 2,\n",
    "    'LABEL_3': 3\n",
    "}\n",
    "y_pred = [label_map[item[0]] for item in eval(ablation_df[ablation_df['name'] == 'multiclass-leave-out-gpt2']['label_distribution'][1]) ]\n",
    "y_true = list(test_df['pred'])"
   ]
  },
  {
   "cell_type": "code",
   "execution_count": 14,
   "id": "db285e96",
   "metadata": {},
   "outputs": [
    {
     "name": "stdout",
     "output_type": "stream",
     "text": [
      "Multiclass (leave out arxiv) Score\n"
     ]
    }
   ],
   "source": [
    "print(\"Multiclass (leave out arxiv) Score\")\n",
    "test_df['y_pred_multiclass'] = y_pred\n",
    "generate_df = test_df[test_df['tool'] == 'generate']\n",
    "for model in test_df[test_df['tool'] == 'generate'].model.unique():\n",
    "    df = generate_df[generate_df['model'] == model]\n",
    "    score = f1_score(df['y_pred_multiclass'], df['pred'], average='micro')\n",
    "    results.append({\n",
    "        \"model\": model,\n",
    "        \"score\": score,\n",
    "        \"multiclass_model\": \"multiclass_leave_out_gpt2_arxiv\"\n",
    "    })"
   ]
  },
  {
   "cell_type": "code",
   "execution_count": 15,
   "id": "53794d45",
   "metadata": {},
   "outputs": [],
   "source": [
    "pd.DataFrame(results).to_csv('multiclass_ablation.csv')"
   ]
  },
  {
   "cell_type": "code",
   "execution_count": null,
   "id": "3c0d1cfa",
   "metadata": {},
   "outputs": [],
   "source": []
  }
 ],
 "metadata": {
  "kernelspec": {
   "display_name": "Python 3 (ipykernel)",
   "language": "python",
   "name": "python3"
  },
  "language_info": {
   "codemirror_mode": {
    "name": "ipython",
    "version": 3
   },
   "file_extension": ".py",
   "mimetype": "text/x-python",
   "name": "python",
   "nbconvert_exporter": "python",
   "pygments_lexer": "ipython3",
   "version": "3.10.4"
  }
 },
 "nbformat": 4,
 "nbformat_minor": 5
}
