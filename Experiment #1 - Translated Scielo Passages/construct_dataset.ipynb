{
 "cells": [
  {
   "cell_type": "code",
   "execution_count": 36,
   "id": "b09ac795",
   "metadata": {},
   "outputs": [],
   "source": [
    "from googletrans import Translator\n",
    "from datasets import load_dataset\n",
    "from tqdm.auto import tqdm\n",
    "import pandas as pd"
   ]
  },
  {
   "cell_type": "code",
   "execution_count": 18,
   "id": "dc6ec686",
   "metadata": {},
   "outputs": [
    {
     "name": "stderr",
     "output_type": "stream",
     "text": [
      "Reusing dataset scielo (/Users/anon/.cache/huggingface/datasets/scielo/en-es/1.0.0/9e049789539b98dda0fbc7503d937a3c2c18758f6cab6f8d2b13b46cd18f0fa8)\n"
     ]
    },
    {
     "data": {
      "application/vnd.jupyter.widget-view+json": {
       "model_id": "b4ceca9dc0bf46a28fef5e9337409279",
       "version_major": 2,
       "version_minor": 0
      },
      "text/plain": [
       "  0%|          | 0/1 [00:00<?, ?it/s]"
      ]
     },
     "metadata": {},
     "output_type": "display_data"
    }
   ],
   "source": [
    "translator = Translator()\n",
    "scielo = load_dataset(\"scielo\", \"en-es\")"
   ]
  },
  {
   "cell_type": "code",
   "execution_count": 19,
   "id": "c9551b02",
   "metadata": {},
   "outputs": [
    {
     "data": {
      "text/plain": [
       "DatasetDict({\n",
       "    train: Dataset({\n",
       "        features: ['translation'],\n",
       "        num_rows: 177782\n",
       "    })\n",
       "})"
      ]
     },
     "execution_count": 19,
     "metadata": {},
     "output_type": "execute_result"
    }
   ],
   "source": [
    "scielo"
   ]
  },
  {
   "cell_type": "code",
   "execution_count": 45,
   "id": "c769f907",
   "metadata": {},
   "outputs": [
    {
     "name": "stderr",
     "output_type": "stream",
     "text": [
      "Loading cached shuffled indices for dataset at /Users/anon/.cache/huggingface/datasets/scielo/en-es/1.0.0/9e049789539b98dda0fbc7503d937a3c2c18758f6cab6f8d2b13b46cd18f0fa8/cache-0057d846ff1541c2.arrow\n"
     ]
    }
   ],
   "source": [
    "SAMPLE_SIZE = 1000\n",
    "scielo_shuffled = scielo.shuffle(seed=42)\n",
    "scielo_sampled = scielo_shuffled['train'].select(range(SAMPLE_SIZE))"
   ]
  },
  {
   "cell_type": "code",
   "execution_count": 46,
   "id": "0906fdd6",
   "metadata": {},
   "outputs": [],
   "source": [
    "es = [translation['es'] for translation in scielo_sampled['translation']]\n",
    "en = [translation['en'] for translation in scielo_sampled['translation']]"
   ]
  },
  {
   "cell_type": "code",
   "execution_count": 47,
   "id": "e414c8bc",
   "metadata": {},
   "outputs": [
    {
     "data": {
      "application/vnd.jupyter.widget-view+json": {
       "model_id": "8b6d296ba6d24207bb80e7af693767f3",
       "version_major": 2,
       "version_minor": 0
      },
      "text/plain": [
       "  0%|          | 0/1000 [00:00<?, ?it/s]"
      ]
     },
     "metadata": {},
     "output_type": "display_data"
    }
   ],
   "source": [
    "translations = []\n",
    "for sample in tqdm(es):\n",
    "    translations_raw = translator.translate(sample, dest='en')\n",
    "    translations.append(translations_raw.text)"
   ]
  },
  {
   "cell_type": "code",
   "execution_count": 53,
   "id": "c5a8fadb",
   "metadata": {},
   "outputs": [],
   "source": [
    "from datasets import load_metric\n",
    "labels = [[label or \"noop\"] for label in en]\n",
    "metric = load_metric(\"sacrebleu\")\n",
    "result = metric.compute(predictions=translations, references=labels)"
   ]
  },
  {
   "cell_type": "code",
   "execution_count": 54,
   "id": "90e69ab1",
   "metadata": {},
   "outputs": [
    {
     "name": "stdout",
     "output_type": "stream",
     "text": [
      "40.90407300241927\n"
     ]
    }
   ],
   "source": [
    "print(result['score'])"
   ]
  },
  {
   "cell_type": "code",
   "execution_count": 59,
   "id": "86f4c349",
   "metadata": {},
   "outputs": [],
   "source": [
    "df = pd.DataFrame({\n",
    "    \"text\": translations + en,\n",
    "    \"fake\": [1 for translation in translations] + [0 for text in en]\n",
    "})\n",
    "df.to_csv('../data/fake_papers_translated.csv')"
   ]
  },
  {
   "cell_type": "code",
   "execution_count": 60,
   "id": "c9dbaf40",
   "metadata": {},
   "outputs": [
    {
     "data": {
      "text/plain": [
       "count    2000.000000\n",
       "mean       29.785000\n",
       "std        18.556264\n",
       "min         0.000000\n",
       "25%        18.000000\n",
       "50%        27.000000\n",
       "75%        37.000000\n",
       "max       226.000000\n",
       "Name: text, dtype: float64"
      ]
     },
     "execution_count": 60,
     "metadata": {},
     "output_type": "execute_result"
    }
   ],
   "source": [
    "df['text'].apply(lambda s: len(s.split())).describe()"
   ]
  },
  {
   "cell_type": "code",
   "execution_count": null,
   "id": "99412d42",
   "metadata": {},
   "outputs": [],
   "source": []
  }
 ],
 "metadata": {
  "kernelspec": {
   "display_name": "Python 3.8.0 64-bit ('3.8.0')",
   "language": "python",
   "name": "python3"
  },
  "language_info": {
   "codemirror_mode": {
    "name": "ipython",
    "version": 3
   },
   "file_extension": ".py",
   "mimetype": "text/x-python",
   "name": "python",
   "nbconvert_exporter": "python",
   "pygments_lexer": "ipython3",
   "version": "3.8.0"
  },
  "vscode": {
   "interpreter": {
    "hash": "f9f3bfb1298c86f91006802b95f6b40296fd6ef213ba2b003e8e487796664083"
   }
  }
 },
 "nbformat": 4,
 "nbformat_minor": 5
}
