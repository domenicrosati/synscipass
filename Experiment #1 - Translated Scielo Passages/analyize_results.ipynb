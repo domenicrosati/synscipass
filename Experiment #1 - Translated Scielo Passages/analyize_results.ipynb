{
 "cells": [
  {
   "cell_type": "code",
   "execution_count": 8,
   "id": "50ee41c1",
   "metadata": {},
   "outputs": [],
   "source": [
    "import pandas as pd\n",
    "from sklearn.metrics import confusion_matrix, ConfusionMatrixDisplay"
   ]
  },
  {
   "cell_type": "code",
   "execution_count": 9,
   "id": "8a584bda",
   "metadata": {},
   "outputs": [],
   "source": [
    "df = pd.read_csv('./translation_evaluation_results_translation_target.csv')\n",
    "smaller_df = df[['model','name', 'aurc', 'f1', 'precision', 'recall', 'acc']]\n",
    "smaller_df.to_csv('./translation_evaluation_results_without_lists.csv')"
   ]
  },
  {
   "cell_type": "code",
   "execution_count": 10,
   "id": "9a847d1d",
   "metadata": {},
   "outputs": [
    {
     "data": {
      "text/html": [
       "<div>\n",
       "<style scoped>\n",
       "    .dataframe tbody tr th:only-of-type {\n",
       "        vertical-align: middle;\n",
       "    }\n",
       "\n",
       "    .dataframe tbody tr th {\n",
       "        vertical-align: top;\n",
       "    }\n",
       "\n",
       "    .dataframe thead th {\n",
       "        text-align: right;\n",
       "    }\n",
       "</style>\n",
       "<table border=\"1\" class=\"dataframe\">\n",
       "  <thead>\n",
       "    <tr style=\"text-align: right;\">\n",
       "      <th></th>\n",
       "      <th>Unnamed: 0</th>\n",
       "      <th>model</th>\n",
       "      <th>name</th>\n",
       "      <th>aurc</th>\n",
       "      <th>f1</th>\n",
       "      <th>precision</th>\n",
       "      <th>recall</th>\n",
       "      <th>acc</th>\n",
       "      <th>risk_list</th>\n",
       "      <th>coverage_list</th>\n",
       "      <th>label_distribution</th>\n",
       "    </tr>\n",
       "  </thead>\n",
       "  <tbody>\n",
       "    <tr>\n",
       "      <th>0</th>\n",
       "      <td>0</td>\n",
       "      <td>anon/deberta-v3-large-dapt-tapt-scien...</td>\n",
       "      <td>dapt-tapt</td>\n",
       "      <td>0.493632</td>\n",
       "      <td>0.570808</td>\n",
       "      <td>0.504608</td>\n",
       "      <td>0.657</td>\n",
       "      <td>0.5060</td>\n",
       "      <td>[1.0, 0.5, 0.3333333333333333, 0.25, 0.4, 0.33...</td>\n",
       "      <td>[0.0005, 0.001, 0.0015, 0.002, 0.0025, 0.003, ...</td>\n",
       "      <td>[('LABEL_1', 1), ('LABEL_0', 0), ('LABEL_0', 0...</td>\n",
       "    </tr>\n",
       "    <tr>\n",
       "      <th>1</th>\n",
       "      <td>1</td>\n",
       "      <td>anon/deberta-v3-large-finetuned-synth...</td>\n",
       "      <td>multiclass</td>\n",
       "      <td>0.513107</td>\n",
       "      <td>0.656250</td>\n",
       "      <td>0.502660</td>\n",
       "      <td>0.945</td>\n",
       "      <td>0.5050</td>\n",
       "      <td>[1.0, 0.5, 0.6666666666666666, 0.5, 0.6, 0.666...</td>\n",
       "      <td>[0.0005, 0.001, 0.0015, 0.002, 0.0025, 0.003, ...</td>\n",
       "      <td>[('LABEL_3', 1), ('LABEL_3', 1), ('LABEL_3', 1...</td>\n",
       "    </tr>\n",
       "    <tr>\n",
       "      <th>2</th>\n",
       "      <td>2</td>\n",
       "      <td>anon/deberta-v3-large-finetuned-dagpa...</td>\n",
       "      <td>dagpap22only</td>\n",
       "      <td>0.479812</td>\n",
       "      <td>0.519752</td>\n",
       "      <td>0.495913</td>\n",
       "      <td>0.546</td>\n",
       "      <td>0.4955</td>\n",
       "      <td>[0.0, 0.0, 0.3333333333333333, 0.5, 0.4, 0.5, ...</td>\n",
       "      <td>[0.0005, 0.001, 0.0015, 0.002, 0.0025, 0.003, ...</td>\n",
       "      <td>[('LABEL_0', 0), ('LABEL_0', 0), ('LABEL_0', 0...</td>\n",
       "    </tr>\n",
       "    <tr>\n",
       "      <th>3</th>\n",
       "      <td>3</td>\n",
       "      <td>anon/deberta-v3-large-finetuned-synth...</td>\n",
       "      <td>translated-only</td>\n",
       "      <td>0.413997</td>\n",
       "      <td>0.664655</td>\n",
       "      <td>0.500000</td>\n",
       "      <td>0.991</td>\n",
       "      <td>0.5000</td>\n",
       "      <td>[0.0, 0.0, 0.0, 0.0, 0.2, 0.3333333333333333, ...</td>\n",
       "      <td>[0.0005, 0.001, 0.0015, 0.002, 0.0025, 0.003, ...</td>\n",
       "      <td>[('LABEL_1', 1), ('LABEL_1', 1), ('LABEL_1', 1...</td>\n",
       "    </tr>\n",
       "    <tr>\n",
       "      <th>4</th>\n",
       "      <td>4</td>\n",
       "      <td>anon/deberta-v3-large-finetuned-DAGPa...</td>\n",
       "      <td>all</td>\n",
       "      <td>0.456926</td>\n",
       "      <td>0.656184</td>\n",
       "      <td>0.504296</td>\n",
       "      <td>0.939</td>\n",
       "      <td>0.5080</td>\n",
       "      <td>[0.0, 0.0, 0.3333333333333333, 0.5, 0.6, 0.5, ...</td>\n",
       "      <td>[0.0005, 0.001, 0.0015, 0.002, 0.0025, 0.003, ...</td>\n",
       "      <td>[('LABEL_1', 1), ('LABEL_1', 1), ('LABEL_1', 1...</td>\n",
       "    </tr>\n",
       "  </tbody>\n",
       "</table>\n",
       "</div>"
      ],
      "text/plain": [
       "   Unnamed: 0                                              model  \\\n",
       "0           0  anon/deberta-v3-large-dapt-tapt-scien...   \n",
       "1           1  anon/deberta-v3-large-finetuned-synth...   \n",
       "2           2  anon/deberta-v3-large-finetuned-dagpa...   \n",
       "3           3  anon/deberta-v3-large-finetuned-synth...   \n",
       "4           4  anon/deberta-v3-large-finetuned-DAGPa...   \n",
       "\n",
       "              name      aurc        f1  precision  recall     acc  \\\n",
       "0        dapt-tapt  0.493632  0.570808   0.504608   0.657  0.5060   \n",
       "1       multiclass  0.513107  0.656250   0.502660   0.945  0.5050   \n",
       "2     dagpap22only  0.479812  0.519752   0.495913   0.546  0.4955   \n",
       "3  translated-only  0.413997  0.664655   0.500000   0.991  0.5000   \n",
       "4              all  0.456926  0.656184   0.504296   0.939  0.5080   \n",
       "\n",
       "                                           risk_list  \\\n",
       "0  [1.0, 0.5, 0.3333333333333333, 0.25, 0.4, 0.33...   \n",
       "1  [1.0, 0.5, 0.6666666666666666, 0.5, 0.6, 0.666...   \n",
       "2  [0.0, 0.0, 0.3333333333333333, 0.5, 0.4, 0.5, ...   \n",
       "3  [0.0, 0.0, 0.0, 0.0, 0.2, 0.3333333333333333, ...   \n",
       "4  [0.0, 0.0, 0.3333333333333333, 0.5, 0.6, 0.5, ...   \n",
       "\n",
       "                                       coverage_list  \\\n",
       "0  [0.0005, 0.001, 0.0015, 0.002, 0.0025, 0.003, ...   \n",
       "1  [0.0005, 0.001, 0.0015, 0.002, 0.0025, 0.003, ...   \n",
       "2  [0.0005, 0.001, 0.0015, 0.002, 0.0025, 0.003, ...   \n",
       "3  [0.0005, 0.001, 0.0015, 0.002, 0.0025, 0.003, ...   \n",
       "4  [0.0005, 0.001, 0.0015, 0.002, 0.0025, 0.003, ...   \n",
       "\n",
       "                                  label_distribution  \n",
       "0  [('LABEL_1', 1), ('LABEL_0', 0), ('LABEL_0', 0...  \n",
       "1  [('LABEL_3', 1), ('LABEL_3', 1), ('LABEL_3', 1...  \n",
       "2  [('LABEL_0', 0), ('LABEL_0', 0), ('LABEL_0', 0...  \n",
       "3  [('LABEL_1', 1), ('LABEL_1', 1), ('LABEL_1', 1...  \n",
       "4  [('LABEL_1', 1), ('LABEL_1', 1), ('LABEL_1', 1...  "
      ]
     },
     "execution_count": 10,
     "metadata": {},
     "output_type": "execute_result"
    }
   ],
   "source": [
    "df.head()"
   ]
  },
  {
   "cell_type": "code",
   "execution_count": 11,
   "id": "77658fc8",
   "metadata": {},
   "outputs": [],
   "source": [
    "test_df = pd.read_csv(\"../data/fake_papers_translated.csv\")\n",
    "test_df['pred'] = test_df[\"fake\"].apply(lambda x: 3 if x == 1 else 2) # translated and real labels"
   ]
  },
  {
   "cell_type": "code",
   "execution_count": 12,
   "id": "1c6ffdc6",
   "metadata": {},
   "outputs": [],
   "source": [
    "label_map = {\n",
    "    'LABEL_0': 0,\n",
    "    'LABEL_1': 1,\n",
    "    'LABEL_2': 2,\n",
    "    'LABEL_3': 3\n",
    "}\n",
    "y_pred = [label_map[item[0]] for item in eval(df[df['name'] == 'multiclass']['label_distribution'][1]) ]\n",
    "y_true = list(test_df['pred'])\n",
    "cm = confusion_matrix(y_true, y_pred)"
   ]
  },
  {
   "cell_type": "code",
   "execution_count": 13,
   "id": "14c9c898",
   "metadata": {},
   "outputs": [
    {
     "data": {
      "text/plain": [
       "<sklearn.metrics._plot.confusion_matrix.ConfusionMatrixDisplay at 0x13db1dd20>"
      ]
     },
     "execution_count": 13,
     "metadata": {},
     "output_type": "execute_result"
    },
    {
     "data": {
      "image/png": "[encoded data removed]",
      "text/plain": [
       "<Figure size 432x288 with 2 Axes>"
      ]
     },
     "metadata": {
      "needs_background": "light"
     },
     "output_type": "display_data"
    }
   ],
   "source": [
    "disp = ConfusionMatrixDisplay(confusion_matrix=cm, display_labels=[\"generated\",\n",
    "    \"paraphrase\",\n",
    "    \"human\",\n",
    "    \"translated\" ]\n",
    ")\n",
    "disp.plot()"
   ]
  },
  {
   "cell_type": "code",
   "execution_count": 14,
   "id": "d71ff9a0",
   "metadata": {},
   "outputs": [
    {
     "data": {
      "image/png": "[encoded data removed]",
      "text/plain": [
       "<Figure size 432x288 with 2 Axes>"
      ]
     },
     "metadata": {
      "needs_background": "light"
     },
     "output_type": "display_data"
    }
   ],
   "source": [
    "y_pred = [label_map[item[0]] for item in eval(df[df['name'] == 'dagpap22only']['label_distribution'][2]) ]\n",
    "y_true = list(test_df['fake'])\n",
    "cm = confusion_matrix(y_true, y_pred)\n",
    "disp = ConfusionMatrixDisplay(confusion_matrix=cm, display_labels=[\n",
    "    \"machine\",\n",
    "    \"human\" ]\n",
    ")\n",
    "plt = disp.plot()"
   ]
  },
  {
   "cell_type": "code",
   "execution_count": null,
   "id": "883bcb92",
   "metadata": {},
   "outputs": [],
   "source": []
  }
 ],
 "metadata": {
  "kernelspec": {
   "display_name": "Python 3 (ipykernel)",
   "language": "python",
   "name": "python3"
  },
  "language_info": {
   "codemirror_mode": {
    "name": "ipython",
    "version": 3
   },
   "file_extension": ".py",
   "mimetype": "text/x-python",
   "name": "python",
   "nbconvert_exporter": "python",
   "pygments_lexer": "ipython3",
   "version": "3.10.4"
  }
 },
 "nbformat": 4,
 "nbformat_minor": 5
}
