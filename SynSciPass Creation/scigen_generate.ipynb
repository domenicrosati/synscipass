{
 "cells": [
  {
   "cell_type": "code",
   "execution_count": 2,
   "id": "8451034b",
   "metadata": {},
   "outputs": [
    {
     "name": "stdout",
     "output_type": "stream",
     "text": [
      "\u001b[33mDEPRECATION: Configuring installation scheme with distutils config files is deprecated and will no longer work in the near future. If you are using a Homebrew or Linuxbrew Python, please see discussion at https://github.com/Homebrew/homebrew-core/issues/76621\u001b[0m\u001b[33m\n",
      "\u001b[0mRequirement already satisfied: texsoup in /usr/local/lib/python3.9/site-packages (0.1.4)\n",
      "Requirement already satisfied: coverage==3.7.1 in /usr/local/lib/python3.9/site-packages (from texsoup) (3.7.1)\n",
      "Requirement already satisfied: pytest in /Users/anon/Library/Python/3.9/lib/python/site-packages (from texsoup) (6.2.4)\n",
      "Requirement already satisfied: coveralls==1.1 in /usr/local/lib/python3.9/site-packages (from texsoup) (1.1)\n",
      "Requirement already satisfied: pytest-cov==2.5.1 in /usr/local/lib/python3.9/site-packages (from texsoup) (2.5.1)\n",
      "Requirement already satisfied: requests>=1.0.0 in /usr/local/lib/python3.9/site-packages (from coveralls==1.1->texsoup) (2.26.0)\n",
      "Requirement already satisfied: docopt>=0.6.1 in /usr/local/lib/python3.9/site-packages (from coveralls==1.1->texsoup) (0.6.2)\n",
      "Requirement already satisfied: pluggy<1.0.0a1,>=0.12 in /Users/anon/Library/Python/3.9/lib/python/site-packages (from pytest->texsoup) (0.13.1)\n",
      "Requirement already satisfied: attrs>=19.2.0 in /Users/anon/Library/Python/3.9/lib/python/site-packages (from pytest->texsoup) (21.2.0)\n",
      "Requirement already satisfied: iniconfig in /Users/anon/Library/Python/3.9/lib/python/site-packages (from pytest->texsoup) (1.1.1)\n",
      "Requirement already satisfied: py>=1.8.2 in /Users/anon/Library/Python/3.9/lib/python/site-packages (from pytest->texsoup) (1.10.0)\n",
      "Requirement already satisfied: packaging in /usr/local/lib/python3.9/site-packages (from pytest->texsoup) (21.3)\n",
      "Requirement already satisfied: toml in /Users/anon/Library/Python/3.9/lib/python/site-packages (from pytest->texsoup) (0.10.2)\n",
      "Requirement already satisfied: urllib3<1.27,>=1.21.1 in /usr/local/lib/python3.9/site-packages (from requests>=1.0.0->coveralls==1.1->texsoup) (1.26.6)\n",
      "Requirement already satisfied: certifi>=2017.4.17 in /usr/local/lib/python3.9/site-packages (from requests>=1.0.0->coveralls==1.1->texsoup) (2021.5.30)\n",
      "Requirement already satisfied: charset-normalizer~=2.0.0 in /usr/local/lib/python3.9/site-packages (from requests>=1.0.0->coveralls==1.1->texsoup) (2.0.3)\n",
      "Requirement already satisfied: idna<4,>=2.5 in /usr/local/lib/python3.9/site-packages (from requests>=1.0.0->coveralls==1.1->texsoup) (2.10)\n",
      "Requirement already satisfied: pyparsing!=3.0.5,>=2.0.2 in /Users/anon/Library/Python/3.9/lib/python/site-packages (from packaging->pytest->texsoup) (2.4.7)\n",
      "\u001b[33mDEPRECATION: Configuring installation scheme with distutils config files is deprecated and will no longer work in the near future. If you are using a Homebrew or Linuxbrew Python, please see discussion at https://github.com/Homebrew/homebrew-core/issues/76621\u001b[0m\u001b[33m\n",
      "\u001b[0m\u001b[33mWARNING: There was an error checking the latest version of pip.\u001b[0m\u001b[33m\n",
      "\u001b[0mNote: you may need to restart the kernel to use updated packages.\n"
     ]
    }
   ],
   "source": [
    "pip install texsoup"
   ]
  },
  {
   "cell_type": "code",
   "execution_count": 15,
   "id": "999391a9",
   "metadata": {},
   "outputs": [
    {
     "data": {
      "application/vnd.jupyter.widget-view+json": {
       "model_id": "96de0e17fd1e4f6494b317b9451b386e",
       "version_major": 2,
       "version_minor": 0
      },
      "text/plain": [
       "  0%|          | 0/1000 [00:00<?, ?it/s]"
      ]
     },
     "metadata": {},
     "output_type": "display_data"
    }
   ],
   "source": [
    "import os\n",
    "import numpy as np\n",
    "from tqdm.auto import tqdm\n",
    "from TexSoup import TexSoup\n",
    "\n",
    "directory = \"scigen.js\"\n",
    "    \n",
    "def get_passage(f):\n",
    "    soup = TexSoup(f.read())\n",
    "    text = ' '.join([i for i in soup.text if len(i) > 100]).replace('\\n', '').split('.')\n",
    "    first_sentence = np.random.randint(\n",
    "        0, len(text) - 1\n",
    "    )\n",
    "    passage_len = np.random.randint(\n",
    "        1, 10\n",
    "    )\n",
    "    return ' '.join(text[first_sentence:first_sentence+passage_len])\n",
    "\n",
    "passages = []\n",
    "for i in tqdm(range(1000)):\n",
    "    with open(os.path.join(directory, str(i+1), 'paper.tex')) as f:\n",
    "        try:\n",
    "            passage = get_passage(f)\n",
    "            passages.append(\n",
    "                passage\n",
    "            )\n",
    "        except:\n",
    "            continue\n",
    "\n"
   ]
  },
  {
   "cell_type": "code",
   "execution_count": 18,
   "id": "01c05a44",
   "metadata": {},
   "outputs": [],
   "source": [
    "import pandas as pd\n",
    "df = pd.DataFrame({\n",
    "    \"passages\": passages\n",
    "})\n",
    "df.to_csv('./scigen_generate.csv', index=False)"
   ]
  },
  {
   "cell_type": "code",
   "execution_count": 23,
   "id": "b7d92f98",
   "metadata": {},
   "outputs": [
    {
     "data": {
      "text/html": [
       "<div>\n",
       "<style scoped>\n",
       "    .dataframe tbody tr th:only-of-type {\n",
       "        vertical-align: middle;\n",
       "    }\n",
       "\n",
       "    .dataframe tbody tr th {\n",
       "        vertical-align: top;\n",
       "    }\n",
       "\n",
       "    .dataframe thead th {\n",
       "        text-align: right;\n",
       "    }\n",
       "</style>\n",
       "<table border=\"1\" class=\"dataframe\">\n",
       "  <thead>\n",
       "    <tr style=\"text-align: right;\">\n",
       "      <th></th>\n",
       "      <th>passages</th>\n",
       "    </tr>\n",
       "  </thead>\n",
       "  <tbody>\n",
       "    <tr>\n",
       "      <th>0</th>\n",
       "      <td>One must understand our network configuration...</td>\n",
       "    </tr>\n",
       "    <tr>\n",
       "      <th>1</th>\n",
       "      <td>Suppose that there exists lossless models suc...</td>\n",
       "    </tr>\n",
       "    <tr>\n",
       "      <th>2</th>\n",
       "      <td>This result at first glance seems perverse bu...</td>\n",
       "    </tr>\n",
       "    <tr>\n",
       "      <th>3</th>\n",
       "      <td>Similarly, only with the benefit of our syste...</td>\n",
       "    </tr>\n",
       "    <tr>\n",
       "      <th>4</th>\n",
       "      <td>This follows from the study of lambda calculus</td>\n",
       "    </tr>\n",
       "  </tbody>\n",
       "</table>\n",
       "</div>"
      ],
      "text/plain": [
       "                                            passages\n",
       "0   One must understand our network configuration...\n",
       "1   Suppose that there exists lossless models suc...\n",
       "2   This result at first glance seems perverse bu...\n",
       "3   Similarly, only with the benefit of our syste...\n",
       "4     This follows from the study of lambda calculus"
      ]
     },
     "execution_count": 23,
     "metadata": {},
     "output_type": "execute_result"
    }
   ],
   "source": [
    "df.head()"
   ]
  },
  {
   "cell_type": "code",
   "execution_count": null,
   "id": "9814987f",
   "metadata": {},
   "outputs": [],
   "source": []
  }
 ],
 "metadata": {
  "kernelspec": {
   "display_name": "Python 3",
   "language": "python",
   "name": "python3"
  },
  "language_info": {
   "codemirror_mode": {
    "name": "ipython",
    "version": 3
   },
   "file_extension": ".py",
   "mimetype": "text/x-python",
   "name": "python",
   "nbconvert_exporter": "python",
   "pygments_lexer": "ipython3",
   "version": "3.9.13"
  }
 },
 "nbformat": 4,
 "nbformat_minor": 5
}
