{
 "cells": [
  {
   "cell_type": "code",
   "execution_count": 2,
   "id": "8db119df",
   "metadata": {},
   "outputs": [
    {
     "name": "stdout",
     "output_type": "stream",
     "text": [
      "GPT-2-arxiv_generate.csv                opus-es-en-scielo-backtranslations.csv\r\n",
      "bloom_generate.csv                      pegasus-xsum-finetuned-paws-parasci.csv\r\n",
      "bloom_passages.csv                      pegasus-xsum-finetuned-paws.csv\r\n",
      "distilgpt2_generate.csv                 real_passages_100k.csv\r\n",
      "google_zhen_backtranslate.csv           scigen_generate.csv\r\n",
      "gpt2_generate.csv                       spinbot_paraphrases.csv\r\n",
      "opus-es-en-backtranslations.csv\r\n"
     ]
    }
   ],
   "source": [
    "!ls *.csv"
   ]
  },
  {
   "cell_type": "code",
   "execution_count": 1,
   "id": "170cb5a4",
   "metadata": {},
   "outputs": [],
   "source": [
    "import pandas as pd"
   ]
  },
  {
   "cell_type": "code",
   "execution_count": 4,
   "id": "619c409a",
   "metadata": {},
   "outputs": [],
   "source": [
    "real_passages_100k = pd.read_csv('real_passages_100k.csv')"
   ]
  },
  {
   "cell_type": "code",
   "execution_count": 6,
   "id": "142c42b1",
   "metadata": {},
   "outputs": [],
   "source": [
    "real_passages_100k['fake'] = 0\n",
    "real_passages_100k['tool'] = 'real'\n",
    "real_passages_100k['model'] = 'real'\n",
    "real_passages_100k['type'] = 'real'"
   ]
  },
  {
   "cell_type": "code",
   "execution_count": 9,
   "id": "404c665e",
   "metadata": {},
   "outputs": [],
   "source": [
    "generations = [\n",
    "    {\"fake\": 1, \"type\": \"gpt2\", \"tool\": \"generate\", \"model\": \"GPT-2-arxiv_generate\", \"file\": \"GPT-2-arxiv_generate.csv\"},\n",
    "    {\"fake\": 1, \"type\": \"opus\", \"tool\": \"translate\", \"model\": \"opus-es-en-scielo\", \"file\": \"opus-es-en-scielo-backtranslations.csv\"},\n",
    "    {\"fake\": 1, \"type\": \"bloom\", \"tool\": \"generate\", \"model\": \"bloom\", \"file\": \"bloom_generate.csv\"},\n",
    "    {\"fake\": 1, \"type\": \"pegasus\", \"tool\": \"paraphrase\", \"model\": \"pegasus-xsum-finetuned-paws-parasci\", \"file\": \"pegasus-xsum-finetuned-paws-parasci.csv\"},\n",
    "    {\"fake\": 1, \"type\": \"pegasus\", \"tool\": \"paraphrase\", \"model\": \"pegasus-xsum-finetuned-paws\", \"file\": \"pegasus-xsum-finetuned-paws.csv\"},\n",
    "    {\"fake\": 1, \"type\": \"gpt2\", \"tool\": \"generate\", \"model\": \"distilgpt2\", \"file\": \"distilgpt2_generate.csv\"                 },\n",
    "    {\"fake\": 1, \"type\": \"google_translate\", \"tool\": \"translate\", \"model\": \"google_translate\", \"file\": \"google_zhen_backtranslate.csv\"},\n",
    "    {\"fake\": 1, \"type\": \"scigen\", \"tool\": \"generate\", \"model\": \"scigen\", \"file\": \"scigen_generate.csv\"},\n",
    "    {\"fake\": 1, \"type\": \"gpt2\", \"tool\": \"generate\", \"model\": \"gpt2-medium\", \"file\": \"gpt2_generate.csv\"},\n",
    "    {\"fake\": 1, \"type\": \"spinbot\",\"tool\": \"paraphrase\", \"model\": \"spinbot\", \"file\": \"spinbot_paraphrases.csv\"},\n",
    "    {\"fake\": 1, \"type\": \"opus\", \"tool\": \"translate\", \"model\": \"opus-es-en\", \"file\": \"opus-es-en-backtranslations.csv\"},\n",
    "]"
   ]
  },
  {
   "cell_type": "code",
   "execution_count": 11,
   "id": "534d6a2a",
   "metadata": {},
   "outputs": [],
   "source": [
    "dfs = []\n",
    "for generation in generations:\n",
    "    df = pd.read_csv(\n",
    "        generation['file']\n",
    "    )\n",
    "    df['fake'] = generation['fake']\n",
    "    df['type'] = generation['type']\n",
    "    df['model'] = generation['model']\n",
    "    df['tool'] = generation['tool']\n",
    "    dfs.append(\n",
    "        df\n",
    "    )"
   ]
  },
  {
   "cell_type": "code",
   "execution_count": 13,
   "id": "1c2747ed",
   "metadata": {},
   "outputs": [],
   "source": [
    "master_df = pd.concat(\n",
    "    dfs + [real_passages_100k]\n",
    ")"
   ]
  },
  {
   "cell_type": "code",
   "execution_count": 30,
   "id": "0e2f3726",
   "metadata": {},
   "outputs": [],
   "source": [
    "from datasets import Dataset\n",
    "dataset = Dataset.from_pandas(master_df).remove_columns('__index_level_0__')\n",
    "dataset = dataset.train_test_split(test_size=0.2, seed=42)\n",
    "eval_dataset = dataset['test'].train_test_split(test_size=0.5)\n",
    "dataset['test'] = eval_dataset['test']\n",
    "dataset['validation'] = eval_dataset['train']"
   ]
  },
  {
   "cell_type": "code",
   "execution_count": 34,
   "id": "339fe922",
   "metadata": {},
   "outputs": [],
   "source": [
    "import pandas as pd\n",
    "df_test = pd.DataFrame( dataset['test'] )\n",
    "df_test = df_test.dropna()\n",
    "df_val = pd.DataFrame( dataset['validation'] )\n",
    "df_val = df_val.dropna()\n",
    "df_train = pd.DataFrame( dataset['train'] )\n",
    "df_train = df_train.dropna()\n",
    "df_train.to_csv('../data/real_and_fake_passages_dataset_train.csv', index=None)\n",
    "df_test.to_csv('../data/real_and_fake_passages_dataset_test.csv', index=None)\n",
    "df_val.to_csv('../data/real_and_fake_passages_dataset_validation.csv', index=None)"
   ]
  },
  {
   "cell_type": "code",
   "execution_count": 14,
   "id": "88093373",
   "metadata": {},
   "outputs": [],
   "source": [
    "master_df.to_csv('./real_and_fake_passages_dataset.csv')"
   ]
  },
  {
   "cell_type": "markdown",
   "id": "7b20d0ef",
   "metadata": {},
   "source": [
    "## Characterization"
   ]
  },
  {
   "cell_type": "code",
   "execution_count": 2,
   "id": "79f52241",
   "metadata": {},
   "outputs": [],
   "source": [
    "master_df = pd.read_csv('./real_and_fake_passages_dataset.csv')"
   ]
  },
  {
   "cell_type": "code",
   "execution_count": 3,
   "id": "e0166e0b",
   "metadata": {},
   "outputs": [
    {
     "data": {
      "text/plain": [
       "110474"
      ]
     },
     "execution_count": 3,
     "metadata": {},
     "output_type": "execute_result"
    }
   ],
   "source": [
    "len(master_df)"
   ]
  },
  {
   "cell_type": "code",
   "execution_count": 4,
   "id": "fc5d78c3",
   "metadata": {},
   "outputs": [
    {
     "data": {
      "text/plain": [
       "10485"
      ]
     },
     "execution_count": 4,
     "metadata": {},
     "output_type": "execute_result"
    }
   ],
   "source": [
    "len(master_df[master_df['fake'] == 1])"
   ]
  },
  {
   "cell_type": "code",
   "execution_count": 5,
   "id": "b09b989d",
   "metadata": {},
   "outputs": [
    {
     "data": {
      "text/plain": [
       "99989"
      ]
     },
     "execution_count": 5,
     "metadata": {},
     "output_type": "execute_result"
    }
   ],
   "source": [
    "len(master_df[master_df['fake'] == 0])"
   ]
  },
  {
   "cell_type": "code",
   "execution_count": 6,
   "id": "46016ac5",
   "metadata": {},
   "outputs": [
    {
     "data": {
      "text/html": [
       "<div>\n",
       "<style scoped>\n",
       "    .dataframe tbody tr th:only-of-type {\n",
       "        vertical-align: middle;\n",
       "    }\n",
       "\n",
       "    .dataframe tbody tr th {\n",
       "        vertical-align: top;\n",
       "    }\n",
       "\n",
       "    .dataframe thead th {\n",
       "        text-align: right;\n",
       "    }\n",
       "</style>\n",
       "<table border=\"1\" class=\"dataframe\">\n",
       "  <thead>\n",
       "    <tr style=\"text-align: right;\">\n",
       "      <th></th>\n",
       "      <th>Unnamed: 0</th>\n",
       "      <th>passages</th>\n",
       "      <th>fake</th>\n",
       "      <th>model</th>\n",
       "      <th>tool</th>\n",
       "    </tr>\n",
       "    <tr>\n",
       "      <th>type</th>\n",
       "      <th></th>\n",
       "      <th></th>\n",
       "      <th></th>\n",
       "      <th></th>\n",
       "      <th></th>\n",
       "    </tr>\n",
       "  </thead>\n",
       "  <tbody>\n",
       "    <tr>\n",
       "      <th>bloom</th>\n",
       "      <td>1073</td>\n",
       "      <td>1073</td>\n",
       "      <td>1073</td>\n",
       "      <td>1073</td>\n",
       "      <td>1073</td>\n",
       "    </tr>\n",
       "    <tr>\n",
       "      <th>google_translate</th>\n",
       "      <td>901</td>\n",
       "      <td>901</td>\n",
       "      <td>901</td>\n",
       "      <td>901</td>\n",
       "      <td>901</td>\n",
       "    </tr>\n",
       "    <tr>\n",
       "      <th>gpt2</th>\n",
       "      <td>2994</td>\n",
       "      <td>2994</td>\n",
       "      <td>2994</td>\n",
       "      <td>2994</td>\n",
       "      <td>2994</td>\n",
       "    </tr>\n",
       "    <tr>\n",
       "      <th>opus</th>\n",
       "      <td>1695</td>\n",
       "      <td>1695</td>\n",
       "      <td>1695</td>\n",
       "      <td>1695</td>\n",
       "      <td>1695</td>\n",
       "    </tr>\n",
       "    <tr>\n",
       "      <th>pegasus</th>\n",
       "      <td>2000</td>\n",
       "      <td>2000</td>\n",
       "      <td>2000</td>\n",
       "      <td>2000</td>\n",
       "      <td>2000</td>\n",
       "    </tr>\n",
       "    <tr>\n",
       "      <th>real</th>\n",
       "      <td>99989</td>\n",
       "      <td>99064</td>\n",
       "      <td>99989</td>\n",
       "      <td>99989</td>\n",
       "      <td>99989</td>\n",
       "    </tr>\n",
       "    <tr>\n",
       "      <th>scigen</th>\n",
       "      <td>822</td>\n",
       "      <td>822</td>\n",
       "      <td>822</td>\n",
       "      <td>822</td>\n",
       "      <td>822</td>\n",
       "    </tr>\n",
       "    <tr>\n",
       "      <th>spinbot</th>\n",
       "      <td>1000</td>\n",
       "      <td>990</td>\n",
       "      <td>1000</td>\n",
       "      <td>1000</td>\n",
       "      <td>1000</td>\n",
       "    </tr>\n",
       "  </tbody>\n",
       "</table>\n",
       "</div>"
      ],
      "text/plain": [
       "                  Unnamed: 0  passages   fake  model   tool\n",
       "type                                                       \n",
       "bloom                   1073      1073   1073   1073   1073\n",
       "google_translate         901       901    901    901    901\n",
       "gpt2                    2994      2994   2994   2994   2994\n",
       "opus                    1695      1695   1695   1695   1695\n",
       "pegasus                 2000      2000   2000   2000   2000\n",
       "real                   99989     99064  99989  99989  99989\n",
       "scigen                   822       822    822    822    822\n",
       "spinbot                 1000       990   1000   1000   1000"
      ]
     },
     "execution_count": 6,
     "metadata": {},
     "output_type": "execute_result"
    }
   ],
   "source": [
    "master_df.groupby(by='type').count()"
   ]
  },
  {
   "cell_type": "code",
   "execution_count": 7,
   "id": "74bcd55e",
   "metadata": {},
   "outputs": [
    {
     "data": {
      "text/html": [
       "<div>\n",
       "<style scoped>\n",
       "    .dataframe tbody tr th:only-of-type {\n",
       "        vertical-align: middle;\n",
       "    }\n",
       "\n",
       "    .dataframe tbody tr th {\n",
       "        vertical-align: top;\n",
       "    }\n",
       "\n",
       "    .dataframe thead th {\n",
       "        text-align: right;\n",
       "    }\n",
       "</style>\n",
       "<table border=\"1\" class=\"dataframe\">\n",
       "  <thead>\n",
       "    <tr style=\"text-align: right;\">\n",
       "      <th></th>\n",
       "      <th>Unnamed: 0</th>\n",
       "      <th>passages</th>\n",
       "      <th>fake</th>\n",
       "      <th>type</th>\n",
       "      <th>model</th>\n",
       "    </tr>\n",
       "    <tr>\n",
       "      <th>tool</th>\n",
       "      <th></th>\n",
       "      <th></th>\n",
       "      <th></th>\n",
       "      <th></th>\n",
       "      <th></th>\n",
       "    </tr>\n",
       "  </thead>\n",
       "  <tbody>\n",
       "    <tr>\n",
       "      <th>generate</th>\n",
       "      <td>4889</td>\n",
       "      <td>4889</td>\n",
       "      <td>4889</td>\n",
       "      <td>4889</td>\n",
       "      <td>4889</td>\n",
       "    </tr>\n",
       "    <tr>\n",
       "      <th>paraphrase</th>\n",
       "      <td>3000</td>\n",
       "      <td>2990</td>\n",
       "      <td>3000</td>\n",
       "      <td>3000</td>\n",
       "      <td>3000</td>\n",
       "    </tr>\n",
       "    <tr>\n",
       "      <th>real</th>\n",
       "      <td>99989</td>\n",
       "      <td>99064</td>\n",
       "      <td>99989</td>\n",
       "      <td>99989</td>\n",
       "      <td>99989</td>\n",
       "    </tr>\n",
       "    <tr>\n",
       "      <th>translate</th>\n",
       "      <td>2596</td>\n",
       "      <td>2596</td>\n",
       "      <td>2596</td>\n",
       "      <td>2596</td>\n",
       "      <td>2596</td>\n",
       "    </tr>\n",
       "  </tbody>\n",
       "</table>\n",
       "</div>"
      ],
      "text/plain": [
       "            Unnamed: 0  passages   fake   type  model\n",
       "tool                                                 \n",
       "generate          4889      4889   4889   4889   4889\n",
       "paraphrase        3000      2990   3000   3000   3000\n",
       "real             99989     99064  99989  99989  99989\n",
       "translate         2596      2596   2596   2596   2596"
      ]
     },
     "execution_count": 7,
     "metadata": {},
     "output_type": "execute_result"
    }
   ],
   "source": [
    "master_df.groupby(by='tool').count()"
   ]
  },
  {
   "cell_type": "code",
   "execution_count": 8,
   "id": "568f7beb",
   "metadata": {},
   "outputs": [
    {
     "data": {
      "text/html": [
       "<div>\n",
       "<style scoped>\n",
       "    .dataframe tbody tr th:only-of-type {\n",
       "        vertical-align: middle;\n",
       "    }\n",
       "\n",
       "    .dataframe tbody tr th {\n",
       "        vertical-align: top;\n",
       "    }\n",
       "\n",
       "    .dataframe thead th {\n",
       "        text-align: right;\n",
       "    }\n",
       "</style>\n",
       "<table border=\"1\" class=\"dataframe\">\n",
       "  <thead>\n",
       "    <tr style=\"text-align: right;\">\n",
       "      <th></th>\n",
       "      <th>Unnamed: 0</th>\n",
       "      <th>passages</th>\n",
       "      <th>fake</th>\n",
       "      <th>type</th>\n",
       "      <th>tool</th>\n",
       "    </tr>\n",
       "    <tr>\n",
       "      <th>model</th>\n",
       "      <th></th>\n",
       "      <th></th>\n",
       "      <th></th>\n",
       "      <th></th>\n",
       "      <th></th>\n",
       "    </tr>\n",
       "  </thead>\n",
       "  <tbody>\n",
       "    <tr>\n",
       "      <th>GPT-2-arxiv_generate</th>\n",
       "      <td>998</td>\n",
       "      <td>998</td>\n",
       "      <td>998</td>\n",
       "      <td>998</td>\n",
       "      <td>998</td>\n",
       "    </tr>\n",
       "    <tr>\n",
       "      <th>bloom</th>\n",
       "      <td>1073</td>\n",
       "      <td>1073</td>\n",
       "      <td>1073</td>\n",
       "      <td>1073</td>\n",
       "      <td>1073</td>\n",
       "    </tr>\n",
       "    <tr>\n",
       "      <th>distilgpt2</th>\n",
       "      <td>998</td>\n",
       "      <td>998</td>\n",
       "      <td>998</td>\n",
       "      <td>998</td>\n",
       "      <td>998</td>\n",
       "    </tr>\n",
       "    <tr>\n",
       "      <th>google_translate</th>\n",
       "      <td>901</td>\n",
       "      <td>901</td>\n",
       "      <td>901</td>\n",
       "      <td>901</td>\n",
       "      <td>901</td>\n",
       "    </tr>\n",
       "    <tr>\n",
       "      <th>gpt2-medium</th>\n",
       "      <td>998</td>\n",
       "      <td>998</td>\n",
       "      <td>998</td>\n",
       "      <td>998</td>\n",
       "      <td>998</td>\n",
       "    </tr>\n",
       "    <tr>\n",
       "      <th>opus-es-en</th>\n",
       "      <td>794</td>\n",
       "      <td>794</td>\n",
       "      <td>794</td>\n",
       "      <td>794</td>\n",
       "      <td>794</td>\n",
       "    </tr>\n",
       "    <tr>\n",
       "      <th>opus-es-en-scielo</th>\n",
       "      <td>901</td>\n",
       "      <td>901</td>\n",
       "      <td>901</td>\n",
       "      <td>901</td>\n",
       "      <td>901</td>\n",
       "    </tr>\n",
       "    <tr>\n",
       "      <th>pegasus-xsum-finetuned-paws</th>\n",
       "      <td>1000</td>\n",
       "      <td>1000</td>\n",
       "      <td>1000</td>\n",
       "      <td>1000</td>\n",
       "      <td>1000</td>\n",
       "    </tr>\n",
       "    <tr>\n",
       "      <th>pegasus-xsum-finetuned-paws-parasci</th>\n",
       "      <td>1000</td>\n",
       "      <td>1000</td>\n",
       "      <td>1000</td>\n",
       "      <td>1000</td>\n",
       "      <td>1000</td>\n",
       "    </tr>\n",
       "    <tr>\n",
       "      <th>real</th>\n",
       "      <td>99989</td>\n",
       "      <td>99064</td>\n",
       "      <td>99989</td>\n",
       "      <td>99989</td>\n",
       "      <td>99989</td>\n",
       "    </tr>\n",
       "    <tr>\n",
       "      <th>scigen</th>\n",
       "      <td>822</td>\n",
       "      <td>822</td>\n",
       "      <td>822</td>\n",
       "      <td>822</td>\n",
       "      <td>822</td>\n",
       "    </tr>\n",
       "    <tr>\n",
       "      <th>spinbot</th>\n",
       "      <td>1000</td>\n",
       "      <td>990</td>\n",
       "      <td>1000</td>\n",
       "      <td>1000</td>\n",
       "      <td>1000</td>\n",
       "    </tr>\n",
       "  </tbody>\n",
       "</table>\n",
       "</div>"
      ],
      "text/plain": [
       "                                     Unnamed: 0  passages   fake   type   tool\n",
       "model                                                                         \n",
       "GPT-2-arxiv_generate                        998       998    998    998    998\n",
       "bloom                                      1073      1073   1073   1073   1073\n",
       "distilgpt2                                  998       998    998    998    998\n",
       "google_translate                            901       901    901    901    901\n",
       "gpt2-medium                                 998       998    998    998    998\n",
       "opus-es-en                                  794       794    794    794    794\n",
       "opus-es-en-scielo                           901       901    901    901    901\n",
       "pegasus-xsum-finetuned-paws                1000      1000   1000   1000   1000\n",
       "pegasus-xsum-finetuned-paws-parasci        1000      1000   1000   1000   1000\n",
       "real                                      99989     99064  99989  99989  99989\n",
       "scigen                                      822       822    822    822    822\n",
       "spinbot                                    1000       990   1000   1000   1000"
      ]
     },
     "execution_count": 8,
     "metadata": {},
     "output_type": "execute_result"
    }
   ],
   "source": [
    "master_df.groupby(by='model').count()"
   ]
  },
  {
   "cell_type": "code",
   "execution_count": 11,
   "id": "b9cf5c85",
   "metadata": {},
   "outputs": [],
   "source": [
    "master_df.groupby(by=['tool', 'type', 'model']).count()[['passages']].to_csv('./dataset_characterization.csv')"
   ]
  },
  {
   "cell_type": "code",
   "execution_count": null,
   "id": "983d41f7",
   "metadata": {},
   "outputs": [],
   "source": []
  },
  {
   "cell_type": "code",
   "execution_count": null,
   "id": "5451ead2",
   "metadata": {},
   "outputs": [],
   "source": []
  }
 ],
 "metadata": {
  "kernelspec": {
   "display_name": "Python 3",
   "language": "python",
   "name": "python3"
  },
  "language_info": {
   "codemirror_mode": {
    "name": "ipython",
    "version": 3
   },
   "file_extension": ".py",
   "mimetype": "text/x-python",
   "name": "python",
   "nbconvert_exporter": "python",
   "pygments_lexer": "ipython3",
   "version": "3.9.13"
  },
  "vscode": {
   "interpreter": {
    "hash": "f9f3bfb1298c86f91006802b95f6b40296fd6ef213ba2b003e8e487796664083"
   }
  }
 },
 "nbformat": 4,
 "nbformat_minor": 5
}
