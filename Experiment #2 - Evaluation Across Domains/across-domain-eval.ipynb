{
 "cells": [
  {
   "cell_type": "code",
   "execution_count": null,
   "metadata": {
    "execution": {
     "iopub.execute_input": "2022-08-05T10:55:19.655630Z",
     "iopub.status.busy": "2022-08-05T10:55:19.654456Z",
     "iopub.status.idle": "2022-08-05T10:55:28.819542Z",
     "shell.execute_reply": "2022-08-05T10:55:28.818407Z",
     "shell.execute_reply.started": "2022-08-05T10:55:19.655153Z"
    }
   },
   "outputs": [],
   "source": [
    "pip install transformers==4.18.0"
   ]
  },
  {
   "cell_type": "code",
   "execution_count": null,
   "metadata": {
    "_cell_guid": "b1076dfc-b9ad-4769-8c92-a6c4dae69d19",
    "_uuid": "8f2839f25d086af736a60e9eeb907d3b93b6e0e5",
    "execution": {
     "iopub.execute_input": "2022-08-05T10:55:28.821812Z",
     "iopub.status.busy": "2022-08-05T10:55:28.821433Z",
     "iopub.status.idle": "2022-08-05T10:55:32.721965Z",
     "shell.execute_reply": "2022-08-05T10:55:32.721018Z",
     "shell.execute_reply.started": "2022-08-05T10:55:28.821773Z"
    },
    "papermill": {
     "duration": 1.50894,
     "end_time": "2022-06-09T12:47:53.268738",
     "exception": false,
     "start_time": "2022-06-09T12:47:51.759798",
     "status": "completed"
    },
    "tags": []
   },
   "outputs": [],
   "source": [
    "from pathlib import Path\n",
    "from tqdm.auto import tqdm\n",
    "import numpy as np\n",
    "import pandas as pd\n",
    "\n",
    "from sklearn.metrics import f1_score, precision_score, recall_score, accuracy_score, confusion_matrix, ConfusionMatrixDisplay\n",
    "from transformers import AutoModel, AutoTokenizer, pipeline\n",
    "from transformers.pipelines.pt_utils import KeyDataset\n",
    "from datasets import Dataset\n",
    "import torch"
   ]
  },
  {
   "cell_type": "code",
   "execution_count": null,
   "metadata": {
    "execution": {
     "iopub.execute_input": "2022-08-05T10:55:32.724489Z",
     "iopub.status.busy": "2022-08-05T10:55:32.723438Z",
     "iopub.status.idle": "2022-08-05T10:55:32.771217Z",
     "shell.execute_reply": "2022-08-05T10:55:32.770129Z",
     "shell.execute_reply.started": "2022-08-05T10:55:32.724438Z"
    },
    "papermill": {
     "duration": 0.014006,
     "end_time": "2022-06-09T12:47:53.300986",
     "exception": false,
     "start_time": "2022-06-09T12:47:53.28698",
     "status": "completed"
    },
    "tags": []
   },
   "outputs": [],
   "source": [
    "DEVICE = 0 if torch.cuda.is_available() else -1\n",
    "INPUT_COL_NAME = 'text'\n",
    "TARGET_COL_NAME = 'fake'"
   ]
  },
  {
   "cell_type": "code",
   "execution_count": null,
   "metadata": {
    "execution": {
     "iopub.execute_input": "2022-08-05T10:55:32.774958Z",
     "iopub.status.busy": "2022-08-05T10:55:32.774368Z",
     "iopub.status.idle": "2022-08-05T10:55:32.936614Z",
     "shell.execute_reply": "2022-08-05T10:55:32.935462Z",
     "shell.execute_reply.started": "2022-08-05T10:55:32.774919Z"
    },
    "papermill": {
     "duration": 0.639346,
     "end_time": "2022-06-09T12:47:53.958602",
     "exception": false,
     "start_time": "2022-06-09T12:47:53.319256",
     "status": "completed"
    },
    "tags": []
   },
   "outputs": [],
   "source": [
    "known_df = pd.read_csv(\"../input/detectinggeneratedscientificaugmented/real_and_fake_passages_dataset_test.csv\")\n",
    "unknown_df = pd.read_csv(\"../input/detecting-generated-scientific-papers/fake_papers_train_part_public.csv\")"
   ]
  },
  {
   "cell_type": "code",
   "execution_count": null,
   "metadata": {
    "execution": {
     "iopub.execute_input": "2022-08-05T10:55:32.938712Z",
     "iopub.status.busy": "2022-08-05T10:55:32.938279Z",
     "iopub.status.idle": "2022-08-05T10:55:32.958254Z",
     "shell.execute_reply": "2022-08-05T10:55:32.957374Z",
     "shell.execute_reply.started": "2022-08-05T10:55:32.938670Z"
    }
   },
   "outputs": [],
   "source": [
    "known_df = known_df.rename(columns={'passages': 'text'})\n",
    "known_df.head(1)"
   ]
  },
  {
   "cell_type": "code",
   "execution_count": null,
   "metadata": {
    "execution": {
     "iopub.execute_input": "2022-08-05T10:55:32.960638Z",
     "iopub.status.busy": "2022-08-05T10:55:32.960026Z",
     "iopub.status.idle": "2022-08-05T10:55:32.972227Z",
     "shell.execute_reply": "2022-08-05T10:55:32.971140Z",
     "shell.execute_reply.started": "2022-08-05T10:55:32.960600Z"
    }
   },
   "outputs": [],
   "source": [
    "unknown_df['type'] = unknown_df['fake'].apply(lambda x: 'unknown' if 1 else 'real' )\n",
    "unknown_df['model'] = unknown_df['fake'].apply(lambda x: 'unknown' if 1 else 'real' )\n",
    "unknown_df['tool'] = unknown_df['fake'].apply(lambda x: 'unknown' if 1 else 'real' )"
   ]
  },
  {
   "cell_type": "code",
   "execution_count": null,
   "metadata": {
    "execution": {
     "iopub.execute_input": "2022-08-05T10:55:32.974769Z",
     "iopub.status.busy": "2022-08-05T10:55:32.973916Z",
     "iopub.status.idle": "2022-08-05T10:55:32.985556Z",
     "shell.execute_reply": "2022-08-05T10:55:32.984440Z",
     "shell.execute_reply.started": "2022-08-05T10:55:32.974729Z"
    }
   },
   "outputs": [],
   "source": [
    "test_df = pd.concat([unknown_df, known_df])"
   ]
  },
  {
   "cell_type": "code",
   "execution_count": null,
   "metadata": {
    "execution": {
     "iopub.execute_input": "2022-08-05T10:55:32.987735Z",
     "iopub.status.busy": "2022-08-05T10:55:32.987300Z",
     "iopub.status.idle": "2022-08-05T10:55:32.993603Z",
     "shell.execute_reply": "2022-08-05T10:55:32.992593Z",
     "shell.execute_reply.started": "2022-08-05T10:55:32.987701Z"
    }
   },
   "outputs": [],
   "source": [
    "models = [\n",
    "    { \n",
    "        \"name\": \"unknown\",\n",
    "        \"model\": \"anon/deberta-v3-large-finetuned-dagpap22-only\"\n",
    "    },\n",
    "    { \n",
    "        \"name\": \"translate\",\n",
    "        \"model\": \"anon/deberta-v3-large-finetuned-synthetic-translated-only\"\n",
    "    },\n",
    "    { \n",
    "        \"name\": \"generate\",\n",
    "        \"model\": \"anon/deberta-v3-large-finetuned-synthetic-generated-only\"\n",
    "    },\n",
    "        { \n",
    "        \"name\": \"paraphrase\",\n",
    "        \"model\": \"anon/deberta-v3-large-finetuned-synthetic-paraphrase-only\"\n",
    "    },\n",
    "    { \n",
    "        \"name\": \"all\",\n",
    "        \"model\": \"anon/deberta-v3-large-finetuned-DAGPap22-synthetic-all\"\n",
    "    },\n",
    "]\n",
    "datasets = ['unknown', 'all', 'generate', 'paraphrase', 'translate']"
   ]
  },
  {
   "cell_type": "code",
   "execution_count": null,
   "metadata": {
    "execution": {
     "iopub.execute_input": "2022-08-05T10:55:32.995845Z",
     "iopub.status.busy": "2022-08-05T10:55:32.995215Z",
     "iopub.status.idle": "2022-08-05T10:55:33.002934Z",
     "shell.execute_reply": "2022-08-05T10:55:33.001990Z",
     "shell.execute_reply.started": "2022-08-05T10:55:32.995809Z"
    }
   },
   "outputs": [],
   "source": [
    "def get_predictions(model, texts):\n",
    "    preds = []\n",
    "    ds = Dataset.from_dict({\n",
    "        \"texts\": list(texts.fillna(''))\n",
    "    })\n",
    "    for pred in tqdm(model(KeyDataset(ds, \"texts\"), batch_size=1, truncation=True, max_length=256), total=len(ds)):\n",
    "        preds.append(\n",
    "            pred\n",
    "        )\n",
    "    return preds"
   ]
  },
  {
   "cell_type": "code",
   "execution_count": null,
   "metadata": {
    "execution": {
     "iopub.execute_input": "2022-08-05T10:55:33.004823Z",
     "iopub.status.busy": "2022-08-05T10:55:33.004480Z",
     "iopub.status.idle": "2022-08-05T10:55:33.017290Z",
     "shell.execute_reply": "2022-08-05T10:55:33.016329Z",
     "shell.execute_reply.started": "2022-08-05T10:55:33.004790Z"
    }
   },
   "outputs": [],
   "source": [
    "import numpy as np\n",
    "\n",
    "\n",
    "def coverage_risk(confidences: np.ndarray, accuracies: np.ndarray):\n",
    "    # From https://github.com/sleep3r/garrus/blob/a6fd1d44b06285918cefe54f421a004dc6f315cb/garrus/metrics/aurc.py\n",
    "    sort_values = sorted(zip(confidences, accuracies), key=lambda x: x[0], reverse=True)\n",
    "    sort_conf, sort_acc = zip(*sort_values)\n",
    "    risk_list = []\n",
    "    coverage_list = []\n",
    "    risk = 0\n",
    "    for i in range(len(sort_conf)):\n",
    "        coverage = (i + 1) / len(sort_conf)\n",
    "        coverage_list.append(coverage)\n",
    "\n",
    "        if sort_acc[i] == 0:\n",
    "            risk += 1\n",
    "\n",
    "        risk_list.append(risk / (i + 1))\n",
    "    return risk_list, coverage_list\n",
    "\n",
    "\n",
    "def compute_area_under_risk_coverage_age(confidences: np.ndarray, accuracies: np.ndarray) -> float:\n",
    "    \"\"\"\n",
    "    Area Under Risk-Coverage.\n",
    "    $$ AURC (\\kappa, f \\mid V_{n}) = \\frac{1}{n} \\sum_{\\theta \\in \\Theta} \\hat{r} (f, g_{\\theta} \\mid V_{n}) $$\n",
    "    From https://github.com/sleep3r/garrus/blob/a6fd1d44b06285918cefe54f421a004dc6f315cb/garrus/metrics/aurc.py\n",
    "    \"\"\"\n",
    "    risk_list, coverage_list = coverage_risk(confidences, accuracies)\n",
    "    risk_coverage_curve_area = 0\n",
    "    for risk_value in risk_list:\n",
    "        risk_coverage_curve_area += risk_value * (1 / len(risk_list))\n",
    "\n",
    "    aurc = risk_coverage_curve_area\n",
    "    return float(aurc), risk_list, coverage_list\n"
   ]
  },
  {
   "cell_type": "code",
   "execution_count": null,
   "metadata": {
    "execution": {
     "iopub.execute_input": "2022-08-05T10:55:33.019235Z",
     "iopub.status.busy": "2022-08-05T10:55:33.018786Z",
     "iopub.status.idle": "2022-08-05T14:59:48.107265Z",
     "shell.execute_reply": "2022-08-05T14:59:48.106228Z",
     "shell.execute_reply.started": "2022-08-05T10:55:33.019201Z"
    }
   },
   "outputs": [],
   "source": [
    "results = []\n",
    "for model in models:\n",
    "    print(f\"Getting results for {model['name']}\")\n",
    "    mdl = pipeline(\"text-classification\", model['model'], device=DEVICE)\n",
    "    for dataset in datasets:\n",
    "        print(f\"Getting results for dataset type {dataset}\")\n",
    "        if dataset == 'all':\n",
    "            df = test_df\n",
    "        else:\n",
    "            df = test_df.loc[\n",
    "                (test_df['tool'] == dataset) | (test_df['tool'] == 'real')\n",
    "            ]\n",
    "        test_predictions = get_predictions(mdl, df[INPUT_COL_NAME])\n",
    "        real_label = 'LABEL_0'\n",
    "\n",
    "        confidences = [\n",
    "            pred['score']\n",
    "            for pred in test_predictions\n",
    "        ]\n",
    "        predictions =  [\n",
    "            0 if pred['label'] == real_label else 1\n",
    "            for pred in test_predictions\n",
    "        ]\n",
    "        accuracies = [\n",
    "            0 if prediction != y_true else 1 for (prediction, y_true)\n",
    "            in zip(predictions, df[TARGET_COL_NAME])\n",
    "        ]\n",
    "        aurc, risk_list, coverage_list = compute_area_under_risk_coverage_age(confidences, accuracies)\n",
    "        f1 = f1_score(df[TARGET_COL_NAME], predictions)\n",
    "        precision = precision_score(df[TARGET_COL_NAME], predictions)\n",
    "        recall = recall_score(df[TARGET_COL_NAME], predictions)\n",
    "        acc = accuracy_score(df[TARGET_COL_NAME], predictions)\n",
    "        results.append({\n",
    "            \"model\": model['model'],\n",
    "            \"name\": model['name'],\n",
    "            \"aurc\": aurc,\n",
    "            \"f1\": f1,\n",
    "            \"precision\": precision,\n",
    "            \"recall\": recall,\n",
    "            \"acc\": acc,\n",
    "            \"dataset\": dataset,\n",
    "            \"risk_list\": risk_list,\n",
    "            \"coverage_list\": coverage_list,\n",
    "            \"predictions\": predictions\n",
    "        })\n",
    "    del mdl\n",
    "    torch.cuda.empty_cache()"
   ]
  },
  {
   "cell_type": "code",
   "execution_count": null,
   "metadata": {
    "execution": {
     "iopub.execute_input": "2022-08-05T14:59:48.109590Z",
     "iopub.status.busy": "2022-08-05T14:59:48.109181Z",
     "iopub.status.idle": "2022-08-05T14:59:48.541297Z",
     "shell.execute_reply": "2022-08-05T14:59:48.540051Z",
     "shell.execute_reply.started": "2022-08-05T14:59:48.109552Z"
    }
   },
   "outputs": [],
   "source": [
    "results"
   ]
  },
  {
   "cell_type": "code",
   "execution_count": null,
   "metadata": {
    "execution": {
     "iopub.execute_input": "2022-08-05T15:05:29.909972Z",
     "iopub.status.busy": "2022-08-05T15:05:29.908947Z",
     "iopub.status.idle": "2022-08-05T15:05:30.452745Z",
     "shell.execute_reply": "2022-08-05T15:05:30.451381Z",
     "shell.execute_reply.started": "2022-08-05T15:05:29.909934Z"
    }
   },
   "outputs": [],
   "source": [
    "pd.DataFrame(\n",
    "    results\n",
    ").to_csv('./across_dataset_evaluation_results.csv')"
   ]
  },
  {
   "cell_type": "code",
   "execution_count": null,
   "metadata": {},
   "outputs": [],
   "source": []
  },
  {
   "cell_type": "code",
   "execution_count": null,
   "metadata": {},
   "outputs": [],
   "source": []
  }
 ],
 "metadata": {
  "kernelspec": {
   "display_name": "Python 3",
   "language": "python",
   "name": "python3"
  },
  "language_info": {
   "codemirror_mode": {
    "name": "ipython",
    "version": 3
   },
   "file_extension": ".py",
   "mimetype": "text/x-python",
   "name": "python",
   "nbconvert_exporter": "python",
   "pygments_lexer": "ipython3",
   "version": "3.9.13"
  }
 },
 "nbformat": 4,
 "nbformat_minor": 4
}
